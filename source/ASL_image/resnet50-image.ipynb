{
 "cells": [
  {
   "cell_type": "code",
   "execution_count": 1,
   "id": "bedbca6a",
   "metadata": {
    "execution": {
     "iopub.execute_input": "2024-10-05T14:52:28.120462Z",
     "iopub.status.busy": "2024-10-05T14:52:28.119520Z",
     "iopub.status.idle": "2024-10-05T14:52:39.332855Z",
     "shell.execute_reply": "2024-10-05T14:52:39.331365Z"
    },
    "papermill": {
     "duration": 11.221754,
     "end_time": "2024-10-05T14:52:39.335614",
     "exception": false,
     "start_time": "2024-10-05T14:52:28.113860",
     "status": "completed"
    },
    "tags": []
   },
   "outputs": [],
   "source": [
    "import torch\n",
    "import torch.nn as nn\n",
    "import torch.optim as optim\n",
    "from torchvision import models, transforms\n",
    "from torch.utils.data import DataLoader\n",
    "import matplotlib.pyplot as plt\n",
    "from sklearn.metrics import confusion_matrix, precision_recall_fscore_support\n",
    "import seaborn as sns\n",
    "import os\n",
    "from torchvision.datasets import ImageFolder\n",
    "from torch.utils.data import DataLoader\n",
    "from torchvision import transforms"
   ]
  },
  {
   "cell_type": "code",
   "execution_count": 2,
   "id": "0c6c37ad",
   "metadata": {
    "execution": {
     "iopub.execute_input": "2024-10-05T14:52:39.344449Z",
     "iopub.status.busy": "2024-10-05T14:52:39.343965Z",
     "iopub.status.idle": "2024-10-05T14:52:39.348747Z",
     "shell.execute_reply": "2024-10-05T14:52:39.347873Z"
    },
    "papermill": {
     "duration": 0.011217,
     "end_time": "2024-10-05T14:52:39.350658",
     "exception": false,
     "start_time": "2024-10-05T14:52:39.339441",
     "status": "completed"
    },
    "tags": []
   },
   "outputs": [],
   "source": [
    "model_save_dir = \"/kaggle/working/\"\n",
    "os.makedirs(model_save_dir, exist_ok=True)"
   ]
  },
  {
   "cell_type": "code",
   "execution_count": 3,
   "id": "22c2273b",
   "metadata": {
    "execution": {
     "iopub.execute_input": "2024-10-05T14:52:39.358463Z",
     "iopub.status.busy": "2024-10-05T14:52:39.358136Z",
     "iopub.status.idle": "2024-10-05T14:52:39.364304Z",
     "shell.execute_reply": "2024-10-05T14:52:39.363382Z"
    },
    "papermill": {
     "duration": 0.012179,
     "end_time": "2024-10-05T14:52:39.366247",
     "exception": false,
     "start_time": "2024-10-05T14:52:39.354068",
     "status": "completed"
    },
    "tags": []
   },
   "outputs": [],
   "source": [
    "# Define transformations for the training and validation data\n",
    "train_transforms = transforms.Compose([\n",
    "    transforms.Resize((224, 224)),\n",
    "    transforms.RandomHorizontalFlip(),\n",
    "    transforms.ToTensor(),\n",
    "    transforms.Normalize([0.485, 0.456, 0.406], [0.229, 0.224, 0.225])\n",
    "])\n",
    "\n",
    "val_transforms = transforms.Compose([\n",
    "    transforms.Resize((224, 224)),\n",
    "    transforms.ToTensor(),\n",
    "    transforms.Normalize([0.485, 0.456, 0.406], [0.229, 0.224, 0.225])\n",
    "])"
   ]
  },
  {
   "cell_type": "code",
   "execution_count": 4,
   "id": "c43149f1",
   "metadata": {
    "execution": {
     "iopub.execute_input": "2024-10-05T14:52:39.373805Z",
     "iopub.status.busy": "2024-10-05T14:52:39.373494Z",
     "iopub.status.idle": "2024-10-05T14:52:47.226728Z",
     "shell.execute_reply": "2024-10-05T14:52:47.225899Z"
    },
    "papermill": {
     "duration": 7.859564,
     "end_time": "2024-10-05T14:52:47.228961",
     "exception": false,
     "start_time": "2024-10-05T14:52:39.369397",
     "status": "completed"
    },
    "tags": []
   },
   "outputs": [],
   "source": [
    "# Use ImageFolder to load datasets from the directories\n",
    "train_dataset = ImageFolder('/kaggle/input/sign-language/IMAGE/IMAGE/train', transform=train_transforms)\n",
    "val_dataset = ImageFolder('/kaggle/input/sign-language/IMAGE/IMAGE/val', transform=val_transforms)\n",
    "test_dataset = ImageFolder('/kaggle/input/sign-language/IMAGE/IMAGE/test', transform=val_transforms)\n",
    "\n",
    "# DataLoader\n",
    "train_loader = DataLoader(train_dataset, batch_size=32, shuffle=True)\n",
    "val_loader = DataLoader(val_dataset, batch_size=32, shuffle=False)\n",
    "test_loader = DataLoader(test_dataset, batch_size=32, shuffle=False)"
   ]
  },
  {
   "cell_type": "code",
   "execution_count": null,
   "id": "b9b9034a",
   "metadata": {
    "execution": {
     "iopub.execute_input": "2024-10-05T14:52:47.236965Z",
     "iopub.status.busy": "2024-10-05T14:52:47.236653Z",
     "iopub.status.idle": "2024-10-05T14:52:48.386398Z",
     "shell.execute_reply": "2024-10-05T14:52:48.385546Z"
    },
    "papermill": {
     "duration": 1.156326,
     "end_time": "2024-10-05T14:52:48.388737",
     "exception": false,
     "start_time": "2024-10-05T14:52:47.232411",
     "status": "completed"
    },
    "tags": []
   },
   "outputs": [],
   "source": [
    "# Load pre-trained ResNet50 model and modify the final layer for 36 classes\n",
    "resnet50 = models.resnet50(pretrained=True)\n",
    "num_ftrs = resnet50.fc.in_features\n",
    "resnet50.fc = nn.Linear(num_ftrs, 35)  # 35 classes: A-Z (excluding J, Z) + 1-9"
   ]
  },
  {
   "cell_type": "code",
   "execution_count": 6,
   "id": "4b93e6fd",
   "metadata": {
    "execution": {
     "iopub.execute_input": "2024-10-05T14:52:48.398473Z",
     "iopub.status.busy": "2024-10-05T14:52:48.397903Z",
     "iopub.status.idle": "2024-10-05T14:52:48.664178Z",
     "shell.execute_reply": "2024-10-05T14:52:48.663369Z"
    },
    "papermill": {
     "duration": 0.273549,
     "end_time": "2024-10-05T14:52:48.666522",
     "exception": false,
     "start_time": "2024-10-05T14:52:48.392973",
     "status": "completed"
    },
    "tags": []
   },
   "outputs": [],
   "source": [
    "# Move the model to the device (GPU if available)\n",
    "device = torch.device(\"cuda\" if torch.cuda.is_available() else \"cpu\")\n",
    "resnet50 = resnet50.to(device)\n",
    "\n",
    "# Loss function and optimizer\n",
    "criterion = nn.CrossEntropyLoss()\n",
    "optimizer = optim.Adam(resnet50.parameters(), lr=0.0001)\n"
   ]
  },
  {
   "cell_type": "code",
   "execution_count": null,
   "id": "081a9017",
   "metadata": {
    "execution": {
     "iopub.execute_input": "2024-10-05T14:52:48.676419Z",
     "iopub.status.busy": "2024-10-05T14:52:48.675570Z",
     "iopub.status.idle": "2024-10-05T18:04:01.829509Z",
     "shell.execute_reply": "2024-10-05T18:04:01.828508Z"
    },
    "papermill": {
     "duration": 11473.168765,
     "end_time": "2024-10-05T18:04:01.839434",
     "exception": false,
     "start_time": "2024-10-05T14:52:48.670669",
     "status": "completed"
    },
    "tags": []
   },
   "outputs": [],
   "source": [
    "# Training loop\n",
    "num_epochs = 50\n",
    "train_acc_history, val_acc_history = [], []\n",
    "train_loss_history, val_loss_history = [], []\n",
    "best_val_acc = 0.0\n",
    "\n",
    "for epoch in range(num_epochs):\n",
    "    resnet50.train()\n",
    "    running_loss = 0.0\n",
    "    correct = 0\n",
    "    total = 0\n",
    "\n",
    "    # Training step\n",
    "    for inputs, labels in train_loader:\n",
    "        inputs, labels = inputs.to(device), labels.to(device)\n",
    "\n",
    "        optimizer.zero_grad()\n",
    "        outputs = resnet50(inputs)\n",
    "        loss = criterion(outputs, labels)\n",
    "        loss.backward()\n",
    "        optimizer.step()\n",
    "\n",
    "        running_loss += loss.item()\n",
    "        _, predicted = torch.max(outputs, 1)\n",
    "        total += labels.size(0)\n",
    "        correct += (predicted == labels).sum().item()\n",
    "\n",
    "    train_loss = running_loss / len(train_loader)\n",
    "    train_acc = 100 * correct / total\n",
    "    train_loss_history.append(train_loss)\n",
    "    train_acc_history.append(train_acc)\n",
    "\n",
    "    # Validation step\n",
    "    resnet50.eval()\n",
    "    val_loss = 0.0\n",
    "    correct = 0\n",
    "    total = 0\n",
    "    with torch.no_grad():\n",
    "        for inputs, labels in val_loader:\n",
    "            inputs, labels = inputs.to(device), labels.to(device)\n",
    "            outputs = resnet50(inputs)\n",
    "            loss = criterion(outputs, labels)\n",
    "\n",
    "            val_loss += loss.item()\n",
    "            _, predicted = torch.max(outputs, 1)\n",
    "            total += labels.size(0)\n",
    "            correct += (predicted == labels).sum().item()\n",
    "\n",
    "    val_loss /= len(val_loader)\n",
    "    val_acc = 100 * correct / total\n",
    "    val_loss_history.append(val_loss)\n",
    "    val_acc_history.append(val_acc)\n",
    "\n",
    "    print(f'Epoch {epoch+1}/{num_epochs}, Train Loss: {train_loss:.4f}, Train Acc: {train_acc:.2f}, Val Loss: {val_loss:.4f}, Val Acc: {val_acc:.2f}')\n",
    "\n",
    "    # Save the model for this epoch\n",
    "    torch.save(resnet50.state_dict(), os.path.join(model_save_dir, f'resnet50_epoch_{epoch+1}.pth'))\n",
    "\n",
    "    # Save the best model based on validation accuracy\n",
    "    if val_acc > best_val_acc:\n",
    "        best_val_acc = val_acc\n",
    "        torch.save(resnet50.state_dict(), os.path.join(model_save_dir, 'resnet50_best_model.pth'))"
   ]
  },
  {
   "cell_type": "code",
   "execution_count": null,
   "id": "03a34d97",
   "metadata": {
    "execution": {
     "iopub.execute_input": "2024-10-05T18:04:01.858156Z",
     "iopub.status.busy": "2024-10-05T18:04:01.857671Z",
     "iopub.status.idle": "2024-10-05T18:04:02.518271Z",
     "shell.execute_reply": "2024-10-05T18:04:02.517357Z"
    },
    "papermill": {
     "duration": 0.672691,
     "end_time": "2024-10-05T18:04:02.520858",
     "exception": false,
     "start_time": "2024-10-05T18:04:01.848167",
     "status": "completed"
    },
    "tags": []
   },
   "outputs": [],
   "source": [
    "# Plot accuracy and loss\n",
    "epochs = range(1, num_epochs+1)\n",
    "plt.figure()\n",
    "plt.plot(epochs, train_acc_history, 'r', label='Train Accuracy')\n",
    "plt.plot(epochs, val_acc_history, 'b', label='Validation Accuracy')\n",
    "plt.title('Training and Validation Accuracy')\n",
    "plt.legend()\n",
    "\n",
    "plt.figure()\n",
    "plt.plot(epochs, train_loss_history, 'r', label='Train Loss')\n",
    "plt.plot(epochs, val_loss_history, 'b', label='Validation Loss')\n",
    "plt.title('Training and Validation Loss')\n",
    "plt.legend()\n",
    "plt.show()\n"
   ]
  },
  {
   "cell_type": "code",
   "execution_count": null,
   "id": "be259c16",
   "metadata": {
    "execution": {
     "iopub.execute_input": "2024-10-05T18:04:02.541447Z",
     "iopub.status.busy": "2024-10-05T18:04:02.540507Z",
     "iopub.status.idle": "2024-10-05T18:05:34.759114Z",
     "shell.execute_reply": "2024-10-05T18:05:34.758167Z"
    },
    "papermill": {
     "duration": 92.231652,
     "end_time": "2024-10-05T18:05:34.761583",
     "exception": false,
     "start_time": "2024-10-05T18:04:02.529931",
     "status": "completed"
    },
    "tags": []
   },
   "outputs": [],
   "source": [
    "# Evaluation on test set and metrics calculation\n",
    "resnet50.eval()\n",
    "all_preds = []\n",
    "all_labels = []\n",
    "\n",
    "with torch.no_grad():\n",
    "    for inputs, labels in test_loader:\n",
    "        inputs, labels = inputs.to(device), labels.to(device)\n",
    "        outputs = resnet50(inputs)\n",
    "        _, predicted = torch.max(outputs, 1)\n",
    "        all_preds.extend(predicted.cpu().numpy())\n",
    "        all_labels.extend(labels.cpu().numpy())\n",
    "\n",
    "# Calculate precision, recall, f1-score\n",
    "precision, recall, f1, _ = precision_recall_fscore_support(all_labels, all_preds, average='macro')\n",
    "print(f'Precision: {precision:.4f}, Recall: {recall:.4f}, F1-Score: {f1:.4f}')\n",
    "\n",
    "# Confusion Matrix\n",
    "classes = [chr(i) for i in range(65, 91) if i != 74] + [str(i) for i in range(1, 10) if i != 9]  # A-Z (no J), 1-9 (no Z)\n",
    "cm = confusion_matrix(all_labels, all_preds)\n",
    "plt.figure(figsize=(10,10))\n",
    "sns.heatmap(cm, annot=True, fmt='d', cmap='Blues', xticklabels=classes, yticklabels=classes)\n",
    "plt.ylabel('Actual')\n",
    "plt.xlabel('Predicted')\n",
    "plt.title('Confusion Matrix')\n",
    "plt.show()"
   ]
  }
 ],
 "metadata": {
  "kaggle": {
   "accelerator": "gpu",
   "dataSources": [
    {
     "datasetId": 5783808,
     "sourceId": 9503246,
     "sourceType": "datasetVersion"
    }
   ],
   "dockerImageVersionId": 30787,
   "isGpuEnabled": true,
   "isInternetEnabled": true,
   "language": "python",
   "sourceType": "notebook"
  },
  "kernelspec": {
   "display_name": "Python 3",
   "language": "python",
   "name": "python3"
  },
  "language_info": {
   "codemirror_mode": {
    "name": "ipython",
    "version": 3
   },
   "file_extension": ".py",
   "mimetype": "text/x-python",
   "name": "python",
   "nbconvert_exporter": "python",
   "pygments_lexer": "ipython3",
   "version": "3.10.14"
  },
  "papermill": {
   "default_parameters": {},
   "duration": 11593.454678,
   "end_time": "2024-10-05T18:05:37.792891",
   "environment_variables": {},
   "exception": null,
   "input_path": "__notebook__.ipynb",
   "output_path": "__notebook__.ipynb",
   "parameters": {},
   "start_time": "2024-10-05T14:52:24.338213",
   "version": "2.6.0"
  }
 },
 "nbformat": 4,
 "nbformat_minor": 5
}
