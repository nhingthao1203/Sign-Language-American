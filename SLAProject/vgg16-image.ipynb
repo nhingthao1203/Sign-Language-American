{
 "cells": [
  {
   "cell_type": "code",
   "execution_count": 1,
   "id": "d1a461cb",
   "metadata": {
    "execution": {
     "iopub.execute_input": "2024-10-06T12:55:00.513804Z",
     "iopub.status.busy": "2024-10-06T12:55:00.512870Z",
     "iopub.status.idle": "2024-10-06T12:55:09.186166Z",
     "shell.execute_reply": "2024-10-06T12:55:09.185286Z"
    },
    "papermill": {
     "duration": 8.682463,
     "end_time": "2024-10-06T12:55:09.188775",
     "exception": false,
     "start_time": "2024-10-06T12:55:00.506312",
     "status": "completed"
    },
    "tags": []
   },
   "outputs": [],
   "source": [
    "import torch\n",
    "import torch.nn as nn\n",
    "import torch.optim as optim\n",
    "from torch.utils.data import DataLoader, Dataset\n",
    "from torchvision import models, transforms\n",
    "import matplotlib.pyplot as plt\n",
    "from sklearn.metrics import confusion_matrix, precision_score, recall_score, f1_score\n",
    "import seaborn as sns\n",
    "import numpy as np\n",
    "import os\n",
    "from torchvision.datasets import ImageFolder\n",
    "from torch.utils.data import DataLoader\n",
    "from torchvision import transforms"
   ]
  },
  {
   "cell_type": "code",
   "execution_count": 2,
   "id": "3576b080",
   "metadata": {
    "execution": {
     "iopub.execute_input": "2024-10-06T12:55:09.199126Z",
     "iopub.status.busy": "2024-10-06T12:55:09.198202Z",
     "iopub.status.idle": "2024-10-06T12:55:09.202985Z",
     "shell.execute_reply": "2024-10-06T12:55:09.202091Z"
    },
    "papermill": {
     "duration": 0.01188,
     "end_time": "2024-10-06T12:55:09.205046",
     "exception": false,
     "start_time": "2024-10-06T12:55:09.193166",
     "status": "completed"
    },
    "tags": []
   },
   "outputs": [],
   "source": [
    "model_save_dir = \"/kaggle/working/\"\n",
    "os.makedirs(model_save_dir, exist_ok=True)"
   ]
  },
  {
   "cell_type": "code",
   "execution_count": 3,
   "id": "28e72a2a",
   "metadata": {
    "execution": {
     "iopub.execute_input": "2024-10-06T12:55:09.214311Z",
     "iopub.status.busy": "2024-10-06T12:55:09.213953Z",
     "iopub.status.idle": "2024-10-06T12:55:09.220547Z",
     "shell.execute_reply": "2024-10-06T12:55:09.219594Z"
    },
    "papermill": {
     "duration": 0.013666,
     "end_time": "2024-10-06T12:55:09.222598",
     "exception": false,
     "start_time": "2024-10-06T12:55:09.208932",
     "status": "completed"
    },
    "tags": []
   },
   "outputs": [],
   "source": [
    "# Data augmentation and normalization\n",
    "train_transforms = transforms.Compose([\n",
    "    transforms.Resize((224, 224)),\n",
    "    transforms.RandomHorizontalFlip(),\n",
    "    transforms.ToTensor(),\n",
    "    transforms.Normalize([0.485, 0.456, 0.406], [0.229, 0.224, 0.225])\n",
    "])\n",
    "\n",
    "val_transforms = transforms.Compose([\n",
    "    transforms.Resize((224, 224)),\n",
    "    transforms.ToTensor(),\n",
    "    transforms.Normalize([0.485, 0.456, 0.406], [0.229, 0.224, 0.225])\n",
    "])"
   ]
  },
  {
   "cell_type": "code",
   "execution_count": 4,
   "id": "53214f8b",
   "metadata": {
    "execution": {
     "iopub.execute_input": "2024-10-06T12:55:09.231982Z",
     "iopub.status.busy": "2024-10-06T12:55:09.231421Z",
     "iopub.status.idle": "2024-10-06T12:55:14.032079Z",
     "shell.execute_reply": "2024-10-06T12:55:14.031227Z"
    },
    "papermill": {
     "duration": 4.808131,
     "end_time": "2024-10-06T12:55:14.034615",
     "exception": false,
     "start_time": "2024-10-06T12:55:09.226484",
     "status": "completed"
    },
    "tags": []
   },
   "outputs": [],
   "source": [
    "# Use ImageFolder to load datasets from the directories\n",
    "train_dataset = ImageFolder('/kaggle/input/sign-language/IMAGE/IMAGE/train', transform=train_transforms)\n",
    "val_dataset = ImageFolder('/kaggle/input/sign-language/IMAGE/IMAGE/val', transform=val_transforms)\n",
    "test_dataset = ImageFolder('/kaggle/input/sign-language/IMAGE/IMAGE/test', transform=val_transforms)\n",
    "\n",
    "# DataLoader\n",
    "train_loader = DataLoader(train_dataset, batch_size=32, shuffle=True)\n",
    "val_loader = DataLoader(val_dataset, batch_size=32, shuffle=False)\n",
    "test_loader = DataLoader(test_dataset, batch_size=32, shuffle=False)"
   ]
  },
  {
   "cell_type": "code",
   "execution_count": 5,
   "id": "31c30f6e",
   "metadata": {
    "execution": {
     "iopub.execute_input": "2024-10-06T12:55:14.045071Z",
     "iopub.status.busy": "2024-10-06T12:55:14.044671Z",
     "iopub.status.idle": "2024-10-06T12:55:18.709273Z",
     "shell.execute_reply": "2024-10-06T12:55:18.708109Z"
    },
    "papermill": {
     "duration": 4.673096,
     "end_time": "2024-10-06T12:55:18.712337",
     "exception": false,
     "start_time": "2024-10-06T12:55:14.039241",
     "status": "completed"
    },
    "tags": []
   },
   "outputs": [
    {
     "name": "stderr",
     "output_type": "stream",
     "text": [
      "/opt/conda/lib/python3.10/site-packages/torchvision/models/_utils.py:208: UserWarning: The parameter 'pretrained' is deprecated since 0.13 and may be removed in the future, please use 'weights' instead.\n",
      "  warnings.warn(\n",
      "/opt/conda/lib/python3.10/site-packages/torchvision/models/_utils.py:223: UserWarning: Arguments other than a weight enum or `None` for 'weights' are deprecated since 0.13 and may be removed in the future. The current behavior is equivalent to passing `weights=VGG16_Weights.IMAGENET1K_V1`. You can also use `weights=VGG16_Weights.DEFAULT` to get the most up-to-date weights.\n",
      "  warnings.warn(msg)\n",
      "Downloading: \"https://download.pytorch.org/models/vgg16-397923af.pth\" to /root/.cache/torch/hub/checkpoints/vgg16-397923af.pth\n",
      "100%|██████████| 528M/528M [00:02<00:00, 197MB/s]\n"
     ]
    }
   ],
   "source": [
    "# Load the pre-trained VGG16 model\n",
    "vgg16 = models.vgg16(pretrained=True)"
   ]
  },
  {
   "cell_type": "code",
   "execution_count": 6,
   "id": "1a28add4",
   "metadata": {
    "execution": {
     "iopub.execute_input": "2024-10-06T12:55:18.736013Z",
     "iopub.status.busy": "2024-10-06T12:55:18.735633Z",
     "iopub.status.idle": "2024-10-06T12:55:18.743366Z",
     "shell.execute_reply": "2024-10-06T12:55:18.742403Z"
    },
    "papermill": {
     "duration": 0.023268,
     "end_time": "2024-10-06T12:55:18.746041",
     "exception": false,
     "start_time": "2024-10-06T12:55:18.722773",
     "status": "completed"
    },
    "tags": []
   },
   "outputs": [],
   "source": [
    "# Modify the classifier for your specific task (36 classes for A-Z, 1-9 excluding J, Z)\n",
    "vgg16.classifier[6] = nn.Linear(4096, 35)"
   ]
  },
  {
   "cell_type": "code",
   "execution_count": 7,
   "id": "d7424d4b",
   "metadata": {
    "execution": {
     "iopub.execute_input": "2024-10-06T12:55:18.767698Z",
     "iopub.status.busy": "2024-10-06T12:55:18.767333Z",
     "iopub.status.idle": "2024-10-06T12:55:19.230838Z",
     "shell.execute_reply": "2024-10-06T12:55:19.229688Z"
    },
    "papermill": {
     "duration": 0.476626,
     "end_time": "2024-10-06T12:55:19.233241",
     "exception": false,
     "start_time": "2024-10-06T12:55:18.756615",
     "status": "completed"
    },
    "tags": []
   },
   "outputs": [],
   "source": [
    "device = torch.device(\"cuda\" if torch.cuda.is_available() else \"cpu\")\n",
    "vgg16 = vgg16.to(device)"
   ]
  },
  {
   "cell_type": "code",
   "execution_count": 8,
   "id": "adf7022a",
   "metadata": {
    "execution": {
     "iopub.execute_input": "2024-10-06T12:55:19.248826Z",
     "iopub.status.busy": "2024-10-06T12:55:19.248458Z",
     "iopub.status.idle": "2024-10-06T12:55:19.253730Z",
     "shell.execute_reply": "2024-10-06T12:55:19.252785Z"
    },
    "papermill": {
     "duration": 0.015057,
     "end_time": "2024-10-06T12:55:19.255641",
     "exception": false,
     "start_time": "2024-10-06T12:55:19.240584",
     "status": "completed"
    },
    "tags": []
   },
   "outputs": [],
   "source": [
    "# Loss and optimizer\n",
    "criterion = nn.CrossEntropyLoss()\n",
    "optimizer = optim.Adam(vgg16.parameters(), lr=0.0001)"
   ]
  },
  {
   "cell_type": "code",
   "execution_count": null,
   "id": "8e39350c",
   "metadata": {
    "execution": {
     "iopub.execute_input": "2024-10-06T12:55:19.271090Z",
     "iopub.status.busy": "2024-10-06T12:55:19.270523Z",
     "iopub.status.idle": "2024-10-06T19:20:35.664111Z",
     "shell.execute_reply": "2024-10-06T19:20:35.662876Z"
    },
    "papermill": {
     "duration": 23116.404318,
     "end_time": "2024-10-06T19:20:35.666944",
     "exception": false,
     "start_time": "2024-10-06T12:55:19.262626",
     "status": "completed"
    },
    "tags": []
   },
   "outputs": [],
   "source": [
    "# Variables to track the best model and save per epoch\n",
    "best_val_acc = 0.0\n",
    "\n",
    "# Training loop\n",
    "num_epochs = 50\n",
    "train_acc_history, val_acc_history = [], []\n",
    "train_loss_history, val_loss_history = [], []\n",
    "\n",
    "for epoch in range(num_epochs):\n",
    "    vgg16.train()\n",
    "    running_loss = 0.0\n",
    "    correct = 0\n",
    "    total = 0\n",
    "\n",
    "    print(f'\\nEpoch {epoch+1}/{num_epochs}')\n",
    "    # Training step\n",
    "    for inputs, labels in train_loader:\n",
    "        inputs, labels = inputs.to(device), labels.to(device)\n",
    "\n",
    "        optimizer.zero_grad()\n",
    "        outputs = vgg16(inputs)\n",
    "        loss = criterion(outputs, labels)\n",
    "        loss.backward()\n",
    "        optimizer.step()\n",
    "\n",
    "        running_loss += loss.item()\n",
    "        _, predicted = torch.max(outputs, 1)\n",
    "        total += labels.size(0)\n",
    "        correct += (predicted == labels).sum().item()\n",
    "\n",
    "    train_loss = running_loss / len(train_loader)\n",
    "    train_acc = 100 * correct / total\n",
    "    train_loss_history.append(train_loss)\n",
    "    train_acc_history.append(train_acc)\n",
    "\n",
    "    # Validation step\n",
    "    vgg16.eval()\n",
    "    val_loss = 0.0\n",
    "    correct = 0\n",
    "    total = 0\n",
    "    with torch.no_grad():\n",
    "        for inputs, labels in val_loader:\n",
    "            inputs, labels = inputs.to(device), labels.to(device)\n",
    "            outputs = vgg16(inputs)\n",
    "            loss = criterion(outputs, labels)\n",
    "\n",
    "            val_loss += loss.item()\n",
    "            _, predicted = torch.max(outputs, 1)\n",
    "            total += labels.size(0)\n",
    "            correct += (predicted == labels).sum().item()\n",
    "\n",
    "    val_loss /= len(val_loader)\n",
    "    val_acc = 100 * correct / total\n",
    "    val_loss_history.append(val_loss)\n",
    "    val_acc_history.append(val_acc)\n",
    "\n",
    "    print(f'Epoch {epoch+1}/{num_epochs}, Train Loss: {train_loss:.4f}, Train Acc: {train_acc:.2f}, Val Loss: {val_loss:.4f}, Val Acc: {val_acc:.2f}')\n",
    "\n",
    "    # Save the model for this epoch\n",
    "    torch.save(vgg16.state_dict(), os.path.join(model_save_dir, f'vgg16_epoch.pth'))\n",
    "\n",
    "    # Save the best model based on validation accuracy\n",
    "    if val_acc > best_val_acc:\n",
    "        best_val_acc = val_acc\n",
    "        torch.save(vgg16.state_dict(), os.path.join(model_save_dir, 'vgg16_best_model.pth'))"
   ]
  },
  {
   "cell_type": "code",
   "execution_count": 10,
   "id": "c02f582f",
   "metadata": {
    "execution": {
     "iopub.execute_input": "2024-10-06T19:20:35.698641Z",
     "iopub.status.busy": "2024-10-06T19:20:35.698202Z",
     "iopub.status.idle": "2024-10-06T19:20:36.027870Z",
     "shell.execute_reply": "2024-10-06T19:20:36.026871Z"
    },
    "papermill": {
     "duration": 0.347965,
     "end_time": "2024-10-06T19:20:36.029898",
     "exception": false,
     "start_time": "2024-10-06T19:20:35.681933",
     "status": "completed"
    },
    "tags": []
   },
   "outputs": [
    {
     "data": {
      "text/plain": [
       "<matplotlib.legend.Legend at 0x7c671811ecb0>"
      ]
     },
     "execution_count": 10,
     "metadata": {},
     "output_type": "execute_result"
    },
    {
     "data": {
      "image/png": "[encoded data removed]",
      "text/plain": [
       "<Figure size 640x480 with 1 Axes>"
      ]
     },
     "metadata": {},
     "output_type": "display_data"
    }
   ],
   "source": [
    "# Plotting training & validation accuracy and loss\n",
    "epochs = range(1, num_epochs+1)\n",
    "plt.figure()\n",
    "plt.plot(epochs, train_acc_history, 'r', label='Train Accuracy')\n",
    "plt.plot(epochs, val_acc_history, 'b', label='Validation Accuracy')\n",
    "plt.title('Training and Validation Accuracy')\n",
    "plt.legend()\n"
   ]
  },
  {
   "cell_type": "code",
   "execution_count": 11,
   "id": "5f9d76f5",
   "metadata": {
    "execution": {
     "iopub.execute_input": "2024-10-06T19:20:36.061650Z",
     "iopub.status.busy": "2024-10-06T19:20:36.061303Z",
     "iopub.status.idle": "2024-10-06T19:20:36.313147Z",
     "shell.execute_reply": "2024-10-06T19:20:36.312137Z"
    },
    "papermill": {
     "duration": 0.27019,
     "end_time": "2024-10-06T19:20:36.315419",
     "exception": false,
     "start_time": "2024-10-06T19:20:36.045229",
     "status": "completed"
    },
    "tags": []
   },
   "outputs": [
    {
     "data": {
      "image/png": "[encoded data removed]",
      "text/plain": [
       "<Figure size 640x480 with 1 Axes>"
      ]
     },
     "metadata": {},
     "output_type": "display_data"
    }
   ],
   "source": [
    "plt.figure()\n",
    "plt.plot(epochs, train_loss_history, 'r', label='Train Loss')\n",
    "plt.plot(epochs, val_loss_history, 'b', label='Validation Loss')\n",
    "plt.title('Training and Validation Loss')\n",
    "plt.legend()\n",
    "plt.show()"
   ]
  }
 ],
 "metadata": {
  "kaggle": {
   "accelerator": "nvidiaTeslaT4",
   "dataSources": [
    {
     "datasetId": 5783808,
     "sourceId": 9503246,
     "sourceType": "datasetVersion"
    }
   ],
   "dockerImageVersionId": 30787,
   "isGpuEnabled": true,
   "isInternetEnabled": true,
   "language": "python",
   "sourceType": "notebook"
  },
  "kernelspec": {
   "display_name": "Python 3",
   "language": "python",
   "name": "python3"
  },
  "language_info": {
   "codemirror_mode": {
    "name": "ipython",
    "version": 3
   },
   "file_extension": ".py",
   "mimetype": "text/x-python",
   "name": "python",
   "nbconvert_exporter": "python",
   "pygments_lexer": "ipython3",
   "version": "3.10.14"
  },
  "papermill": {
   "default_parameters": {},
   "duration": 23255.058612,
   "end_time": "2024-10-06T19:22:32.375485",
   "environment_variables": {},
   "exception": true,
   "input_path": "__notebook__.ipynb",
   "output_path": "__notebook__.ipynb",
   "parameters": {},
   "start_time": "2024-10-06T12:54:57.316873",
   "version": "2.6.0"
  }
 },
 "nbformat": 4,
 "nbformat_minor": 5
}
